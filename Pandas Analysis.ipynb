{
 "cells": [
  {
   "cell_type": "code",
   "execution_count": 4,
   "id": "50177a33",
   "metadata": {},
   "outputs": [],
   "source": [
    "import pandas as pd\n",
    "import numpy as np\n",
    "import matplotlib.pyplot as plt\n",
    "import os\n",
    "import plotly.graph_objs as go\n",
    "from plotly.offline import iplot"
   ]
  },
  {
   "cell_type": "code",
   "execution_count": 13,
   "id": "68a8bb31",
   "metadata": {
    "scrolled": true
   },
   "outputs": [
    {
     "ename": "SyntaxError",
     "evalue": "invalid non-printable character U+202A (Temp/ipykernel_75632/2484186946.py, line 1)",
     "output_type": "error",
     "traceback": [
      "\u001b[1;36m  File \u001b[1;32m\"C:\\Users\\USER\\AppData\\Local\\Temp/ipykernel_75632/2484186946.py\"\u001b[1;36m, line \u001b[1;32m1\u001b[0m\n\u001b[1;33m    file=[file for file in os.listdir(‪\"‪C:\\Users\\USER\\OneDrive\\Desktop\\Sales_time\")]\u001b[0m\n\u001b[1;37m                                      ^\u001b[0m\n\u001b[1;31mSyntaxError\u001b[0m\u001b[1;31m:\u001b[0m invalid non-printable character U+202A\n"
     ]
    }
   ],
   "source": [
    "file=[file for file in os.listdir(‪\"‪C:\\Users\\USER\\OneDrive\\Desktop\\Sales_time\")]\n",
    "for file in files:\n",
    "      print(file)\n",
    "      "
   ]
  },
  {
   "cell_type": "code",
   "execution_count": null,
   "id": "b60e61d1",
   "metadata": {},
   "outputs": [],
   "source": []
  }
 ],
 "metadata": {
  "kernelspec": {
   "display_name": "Python 3 (ipykernel)",
   "language": "python",
   "name": "python3"
  },
  "language_info": {
   "codemirror_mode": {
    "name": "ipython",
    "version": 3
   },
   "file_extension": ".py",
   "mimetype": "text/x-python",
   "name": "python",
   "nbconvert_exporter": "python",
   "pygments_lexer": "ipython3",
   "version": "3.9.7"
  }
 },
 "nbformat": 4,
 "nbformat_minor": 5
}
